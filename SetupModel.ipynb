{
 "cells": [
  {
   "cell_type": "code",
   "execution_count": 1,
   "metadata": {
    "collapsed": false
   },
   "outputs": [
    {
     "name": "stdout",
     "output_type": "stream",
     "text": [
      "chrisv on Mac\n"
     ]
    }
   ],
   "source": [
    "import uns\n",
    "from uns import training\n",
    "import pandas as pd\n",
    "import numpy as np\n",
    "import matplotlib.pyplot as plt\n",
    "%matplotlib inline"
   ]
  },
  {
   "cell_type": "markdown",
   "metadata": {
    "collapsed": false,
    "scrolled": true
   },
   "source": [
    "## Pick a name for the new model"
   ]
  },
  {
   "cell_type": "code",
   "execution_count": 2,
   "metadata": {
    "collapsed": false
   },
   "outputs": [
    {
     "name": "stdout",
     "output_type": "stream",
     "text": [
      "New model\n"
     ]
    }
   ],
   "source": [
    "modelname = '901'\n",
    "# ===================\n",
    "modelcolumn = 'model_' + modelname # so we don't overwrite img or subject\n",
    "if modelname in training.columns:\n",
    "    print('!!! Model exists update')\n",
    "else:\n",
    "    print('New model')"
   ]
  },
  {
   "cell_type": "markdown",
   "metadata": {},
   "source": [
    "## Choose what to exclude"
   ]
  },
  {
   "cell_type": "code",
   "execution_count": 4,
   "metadata": {
    "collapsed": false
   },
   "outputs": [
    {
     "data": {
      "image/png": "[encoded data removed]",
      "text/plain": [
       "<matplotlib.figure.Figure at 0x11ae12ef0>"
      ]
     },
     "metadata": {},
     "output_type": "display_data"
    }
   ],
   "source": [
    "D = np.array([[subject, len(images), np.sum(images['hasmask'])] for subject, images in training.groupby(by='subject')])\n",
    "\n",
    "sortidx = np.argsort(D[:,2])\n",
    "SD = D[sortidx,:]\n",
    "N = len(SD)\n",
    "plt.style.use('ggplot')\n",
    "fig, ax = plt.subplots(figsize=(16,2))\n",
    "ax.bar(D[:,0], SD[:,1])\n",
    "ax.bar(D[:,0], SD[:,2], color='C')\n",
    "\n",
    "ax.set_xticks(D[:,0]+0.4)\n",
    "ax.set_xticklabels(D[sortidx,0])\n",
    "a=ax.set_xlabel('Subject')"
   ]
  },
  {
   "cell_type": "code",
   "execution_count": 37,
   "metadata": {
    "collapsed": false
   },
   "outputs": [
    {
     "name": "stdout",
     "output_type": "stream",
     "text": [
      "skip 452/480 empty or 0.942\n",
      "train 2294/4196 empty or 0.547\n",
      "validate 567/959 empty or 0.591\n",
      "total 3313/5635 empty or 0.588\n",
      "excluding skipped 2861/5155 empty or 0.555\n"
     ]
    }
   ],
   "source": [
    "## Reset model selections\n",
    "training[modelcolumn] = 'train'\n",
    "\n",
    "## Skip specific subjects\n",
    "minimum_mask_count = 12\n",
    "subject_mask = training.loc[training.hasmask,['subject','img']].groupby(by='subject').size()\n",
    "skip_subjects = subject_mask[subject_mask<minimum_mask_count].index\n",
    "\n",
    "idx = [row in skip_subjects for row in training['subject'].values]\n",
    "training.ix[idx,modelcolumn] = 'skip'\n",
    "\n",
    "## Decide on how to choose between train/validate\n",
    "validate_fraction = 0.2\n",
    "\n",
    "# Example: Pick at random across subjects\n",
    "# x = training[training[modelcolumn]=='train'].index.values\n",
    "# validate_idx = np.random.choice(x,int(len(x)*validate_fraction), replace=False)\n",
    "\n",
    "# Example: Pick subjects at random\n",
    "subjects = [s for s in np.arange(47)+1 if s not in skip_subjects]\n",
    "\n",
    "validate_subjects = np.random.choice(subjects,int(len(subjects)*validate_fraction), replace=False)\n",
    "validate_idx = [subject in validate_subjects for subject in training['subject'].values]\n",
    "training.ix[validate_idx, modelcolumn] = 'validate'\n",
    "\n",
    "## Check distribution of train/validate masks\n",
    "trainvalidateskip = training.groupby(by=[modelcolumn,'hasmask']).size()\n",
    "\n",
    "counts = trainvalidateskip.values.reshape(3,-1)\n",
    "\n",
    "for g, mask, empty in zip(trainvalidateskip.index.levels[0].values, counts[:,0], counts[:,1]):\n",
    "    print('{:s} {:d}/{:d} empty or {:.3f}'.format(g, mask, mask+empty, mask/(mask+empty)))\n",
    "\n",
    "totalsum = np.sum(counts, axis=0)\n",
    "notskip = np.sum(counts[1:,:], axis=0)\n",
    "print('{:s} {:d}/{:d} empty or {:.3f}'.format('total', totalsum[0], sum(totalsum), totalsum[0]/(sum(totalsum)) ))\n",
    "print('{:s} {:d}/{:d} empty or {:.3f}'.format('excluding skipped', notskip[0], sum(notskip), notskip[0]/(sum(notskip))))\n",
    "      "
   ]
  },
  {
   "cell_type": "code",
   "execution_count": 49,
   "metadata": {
    "collapsed": false
   },
   "outputs": [],
   "source": [
    "modelcolumn = 'test'\n",
    "validate_fraction = 0.2\n",
    "samples = 200\n",
    "counts = np.empty((samples, 3, 2))\n",
    "for i in range(samples):\n",
    "    training[modelcolumn] = 'train'\n",
    "\n",
    "    ## Skip specific subjects\n",
    "    minimum_mask_count = 12\n",
    "    subject_mask = training.loc[training.hasmask,['subject','img']].groupby(by='subject').size()\n",
    "    skip_subjects = subject_mask[subject_mask<minimum_mask_count].index\n",
    "\n",
    "    idx = [row in skip_subjects for row in training['subject'].values]\n",
    "    training.ix[idx,modelcolumn] = 'skip'\n",
    "\n",
    "    ## Decide on how to choose between train/validate\n",
    "\n",
    "\n",
    "\n",
    "    subjects = [s for s in np.arange(47)+1 if s not in skip_subjects]\n",
    "    validate_subjects = np.random.choice(subjects,int(len(subjects)*validate_fraction), replace=False)\n",
    "    validate_idx = [subject in validate_subjects for subject in training['subject'].values]\n",
    "    training.ix[validate_idx, modelcolumn] = 'validate'\n",
    "\n",
    "    ## Check distribution of train/validate masks\n",
    "    trainvalidateskip = training.groupby(by=[modelcolumn,'hasmask']).size()\n",
    "\n",
    "    counts[i,:,:] = trainvalidateskip.values.reshape(3,-1)\n",
    "   \n",
    "    "
   ]
  },
  {
   "cell_type": "code",
   "execution_count": 57,
   "metadata": {
    "collapsed": false
   },
   "outputs": [
    {
     "data": {
      "text/plain": [
       "<matplotlib.legend.Legend at 0x7f2be9a61a20>"
      ]
     },
     "execution_count": 57,
     "metadata": {},
     "output_type": "execute_result"
    },
    {
     "data": {
      "image/png": "[encoded data removed]",
      "text/plain": [
       "<matplotlib.figure.Figure at 0x7f2be9abb208>"
      ]
     },
     "metadata": {},
     "output_type": "display_data"
    }
   ],
   "source": [
    "# Calculate fractions:\n",
    "validate_empty_rate = [c[2,0]/sum(c[2,:]) for c in counts]\n",
    "validate_masks = [c[2,0] for c in counts]\n",
    "train_empty_rate = [c[1,0]/sum(c[1,:]) for c in counts]\n",
    "train_masks = [c[1,0] for c in counts]\n",
    "\n",
    "fig, ax = plt.subplots()\n",
    "ax.hist(train_empty_rate, bins=20, label='train', normed=True)\n",
    "ax.hist(validate_empty_rate, bins=20, label='validate', normed=True, stacker)\n",
    "ax.legend()"
   ]
  },
  {
   "cell_type": "code",
   "execution_count": 43,
   "metadata": {
    "collapsed": false
   },
   "outputs": [
    {
     "name": "stdout",
     "output_type": "stream",
     "text": [
      "[452  28]\n",
      "[2294 1902]\n",
      "[567 392]\n"
     ]
    }
   ],
   "source": [
    "for c in counts:\n",
    "    print(c)"
   ]
  },
  {
   "cell_type": "code",
   "execution_count": 7,
   "metadata": {
    "collapsed": false
   },
   "outputs": [],
   "source": [
    "    for g, mask, empty in zip(trainvalidateskip.index.levels[0].values, counts[:,0], counts[:,1]):\n",
    "        print('{:s} {:d}/{:d} empty or {:.3f}'.format(g, mask, mask+empty, mask/(mask+empty)))\n",
    "\n",
    "    totalsum = np.sum(counts, axis=0)\n",
    "    notskip = np.sum(counts[1:,:], axis=0)\n",
    "    print('{:s} {:d}/{:d} empty or {:.3f}'.format('total', totalsum[0], sum(totalsum), totalsum[0]/(sum(totalsum)) ))\n",
    "    print('{:s} {:d}/{:d} empty or {:.3f}'.format('excluding skipped', notskip[0], sum(notskip), notskip[0]/(sum(notskip))))\n",
    "      "
   ]
  },
  {
   "cell_type": "markdown",
   "metadata": {},
   "source": [
    "## Finally, save to msgpack format"
   ]
  },
  {
   "cell_type": "code",
   "execution_count": 236,
   "metadata": {
    "collapsed": true
   },
   "outputs": [],
   "source": [
    "training.to_msgpack('training.bin')"
   ]
  },
  {
   "cell_type": "code",
   "execution_count": 7,
   "metadata": {
    "collapsed": false
   },
   "outputs": [
    {
     "data": {
      "text/plain": [
       "Index(['centcol', 'centrow', 'contH', 'contW', 'contour', 'contxmax',\n",
       "       'contxmin', 'contymax', 'contymin', 'hasmask', 'img', 'maskarea',\n",
       "       'moment_hu_I0', 'moment_hu_I1', 'moment_hu_I2', 'moment_hu_I3',\n",
       "       'moment_hu_I4', 'moment_hu_I5', 'moment_hu_I6', 'moments', 'pixels',\n",
       "       'skelavgdist', 'skeldist10', 'skeldist25', 'skeldist50', 'skeldist75',\n",
       "       'skeldist90', 'skelmaxdist', 'skelpixels', 'subject', 'svd', 'svdx0',\n",
       "       'svdx1', 'svdy0', 'svdy1', 'unitcontour', 'sv0', 'sv1', 'sv2', 'sv3',\n",
       "       'model_901'],\n",
       "      dtype='object')"
      ]
     },
     "execution_count": 7,
     "metadata": {},
     "output_type": "execute_result"
    }
   ],
   "source": [
    "training.columns"
   ]
  },
  {
   "cell_type": "code",
   "execution_count": null,
   "metadata": {
    "collapsed": true
   },
   "outputs": [],
   "source": []
  }
 ],
 "metadata": {
  "kernelspec": {
   "display_name": "Python 3",
   "language": "python",
   "name": "python3"
  },
  "language_info": {
   "codemirror_mode": {
    "name": "ipython",
    "version": 3
   },
   "file_extension": ".py",
   "mimetype": "text/x-python",
   "name": "python",
   "nbconvert_exporter": "python",
   "pygments_lexer": "ipython3",
   "version": "3.5.2"
  }
 },
 "nbformat": 4,
 "nbformat_minor": 0
}
